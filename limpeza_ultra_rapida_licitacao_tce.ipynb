{
  "nbformat": 4,
  "nbformat_minor": 0,
  "metadata": {
    "colab": {
      "name": "limpeza_ultra_rapida_licitacao_tce",
      "provenance": [],
      "collapsed_sections": [],
      "authorship_tag": "ABX9TyM05VEed+IhuSBAH7PwBgub",
      "include_colab_link": true
    },
    "kernelspec": {
      "name": "python3",
      "display_name": "Python 3"
    },
    "language_info": {
      "name": "python"
    }
  },
  "cells": [
    {
      "cell_type": "markdown",
      "metadata": {
        "id": "view-in-github",
        "colab_type": "text"
      },
      "source": [
        "<a href=\"https://colab.research.google.com/github/elayni/datavis/blob/main/limpeza_ultra_rapida_licitacao_tce.ipynb\" target=\"_parent\"><img src=\"https://colab.research.google.com/assets/colab-badge.svg\" alt=\"Open In Colab\"/></a>"
      ]
    },
    {
      "cell_type": "markdown",
      "source": [
        "**Objetivo:** limpar os dados de licitação do TCE-PB apenas o suficiente para plotar gráficos no Observable, eliminando colunas que não serão utilizadas e corrigindo algumas palavras."
      ],
      "metadata": {
        "id": "CXhDNNE6YVD2"
      }
    },
    {
      "cell_type": "code",
      "execution_count": 1,
      "metadata": {
        "id": "1Ur82e9A7jl4"
      },
      "outputs": [],
      "source": [
        "import pandas as pd\n",
        "import numpy as np\n",
        "import matplotlib as plt\n",
        "import seaborn as sns\n",
        "\n",
        "# set pastel color for plots\n",
        "sns.set(style=\"ticks\", palette=\"BuPu\")\n",
        "\n",
        "pd.set_option('display.max_columns', None)\n",
        "#pd.set_option('display.max_rows', None)"
      ]
    },
    {
      "cell_type": "code",
      "source": [
        "from google.colab import drive\n",
        "drive.mount('/content/drive')"
      ],
      "metadata": {
        "colab": {
          "base_uri": "https://localhost:8080/"
        },
        "id": "7bZz9E0F9a2O",
        "outputId": "c70e4aea-f4f7-4728-b70b-15c39ae3cccc"
      },
      "execution_count": 2,
      "outputs": [
        {
          "output_type": "stream",
          "name": "stdout",
          "text": [
            "Mounted at /content/drive\n"
          ]
        }
      ]
    },
    {
      "cell_type": "code",
      "source": [
        "df = pd.read_csv('/content/drive/MyDrive/CDIA/DataVis/Exerc1/TCE-PB-Portal-Gestor-Licitacoes_Propostas.txt', sep = \"|\", encoding = 'iso-8859-1')"
      ],
      "metadata": {
        "id": "BoqJRIf99eLi",
        "colab": {
          "base_uri": "https://localhost:8080/"
        },
        "outputId": "5e414b4d-108d-4a02-ba81-d31777827550"
      },
      "execution_count": 3,
      "outputs": [
        {
          "output_type": "stream",
          "name": "stderr",
          "text": [
            "/usr/local/lib/python3.7/dist-packages/IPython/core/interactiveshell.py:2882: DtypeWarning: Columns (14) have mixed types.Specify dtype option on import or set low_memory=False.\n",
            "  exec(code_obj, self.user_global_ns, self.user_ns)\n"
          ]
        }
      ]
    },
    {
      "cell_type": "code",
      "source": [
        "df.head()"
      ],
      "metadata": {
        "colab": {
          "base_uri": "https://localhost:8080/",
          "height": 461
        },
        "id": "wIxi3DTW9ggD",
        "outputId": "98857d15-ed5f-4641-e0a8-c52601314ee5"
      },
      "execution_count": 4,
      "outputs": [
        {
          "output_type": "execute_result",
          "data": {
            "text/plain": [
              "  protocolo_licitacao numero_licitacao nome_modalidade_licitacao  \\\n",
              "0       Doc. 00625/14       00001/2014        PregÃ£o Presencial   \n",
              "1       Doc. 00707/14       00001/2014        PregÃ£o Presencial   \n",
              "2       Doc. 00714/14       00001/2014        PregÃ£o Presencial   \n",
              "3       Doc. 00714/14       00001/2014        PregÃ£o Presencial   \n",
              "4       Doc. 00714/14       00001/2014        PregÃ£o Presencial   \n",
              "\n",
              "  nome_municipio  cd_ugestora  jurisdicionado_id  \\\n",
              "0            NaN        50001                897   \n",
              "1       Desterro       201073                658   \n",
              "2           Juru       201100                686   \n",
              "3           Juru       201100                686   \n",
              "4           Juru       201100                686   \n",
              "\n",
              "                nome_jurisdicionado      nome_tipo_jurisdicionado  \\\n",
              "0              Tribunal de JustiÃ§a  Poder / ÃrgÃ£o Independente   \n",
              "1  Prefeitura Municipal de Desterro                    Prefeitura   \n",
              "2      Prefeitura Municipal de Juru                    Prefeitura   \n",
              "3      Prefeitura Municipal de Juru                    Prefeitura   \n",
              "4      Prefeitura Municipal de Juru                    Prefeitura   \n",
              "\n",
              "  nome_tipo_administracao_jurisdicionado nome_esfera_jurisdicionado  \\\n",
              "0                                 Direta                   Estadual   \n",
              "1                                 Direta                  Municipal   \n",
              "2                                 Direta                  Municipal   \n",
              "3                                 Direta                  Municipal   \n",
              "4                                 Direta                  Municipal   \n",
              "\n",
              "                                    objeto_licitacao  \\\n",
              "0  LocaÃ§Ã£o de equipamentos para o sistema de vi...   \n",
              "1  AquisiÃ§Ã£o de 04 (quatro) Carretas Basculante...   \n",
              "2  ContrataÃ§Ã£o de empresa para aquisiÃ§Ã£o de c...   \n",
              "3  ContrataÃ§Ã£o de empresa para aquisiÃ§Ã£o de c...   \n",
              "4  ContrataÃ§Ã£o de empresa para aquisiÃ§Ã£o de c...   \n",
              "\n",
              "   valor_estimado_licitacao  valor_licitado_licitacao  \\\n",
              "0                   81600.0                   75600.0   \n",
              "1                   60000.0                   54000.0   \n",
              "2                  500000.0                  596300.0   \n",
              "3                  500000.0                  596300.0   \n",
              "4                  500000.0                  596300.0   \n",
              "\n",
              "  data_homologacao_licitacao ano_homologacao_licitacao  \\\n",
              "0                 14/02/2014                    2014.0   \n",
              "1                 20/01/2014                    2014.0   \n",
              "2                 24/01/2014                    2014.0   \n",
              "3                 24/01/2014                    2014.0   \n",
              "4                 24/01/2014                    2014.0   \n",
              "\n",
              "  situacao_fracassada_licitacao  \\\n",
              "0                          NÃ£o   \n",
              "1                          NÃ£o   \n",
              "2                          NÃ£o   \n",
              "3                          NÃ£o   \n",
              "4                          NÃ£o   \n",
              "\n",
              "                                     nome_proponente cpf_cnpj_proponente  \\\n",
              "0  APEL - AplicaÃ§Ãµes EletrÃ´nicas Industria e C...      08991515000102   \n",
              "1                      Veneza Maquinas Comercio Ltda      06824439000204   \n",
              "2                 COMERCIAL DE COMBUSTIVEIS NORDESTE      09382946000134   \n",
              "3                                        CESAR POSTO      00188092000185   \n",
              "4               RI COMERCIO DE DERIVADOS DE PETROLEO      03562340000102   \n",
              "\n",
              "   valor_proposta situacao_proposta nome_estagio_processual_licitacao  \\\n",
              "0         78000.0         Vencedora                       Formalizado   \n",
              "1         54000.0         Vencedora                       Formalizado   \n",
              "2        137400.0         Vencedora                       Formalizado   \n",
              "3        351900.0         Vencedora                       Formalizado   \n",
              "4        104000.0         Vencedora                       Formalizado   \n",
              "\n",
              "  nome_setor_atual_licitacao  \\\n",
              "0             ACERVO DIGITAL   \n",
              "1             ACERVO DIGITAL   \n",
              "2             ACERVO DIGITAL   \n",
              "3             ACERVO DIGITAL   \n",
              "4             ACERVO DIGITAL   \n",
              "\n",
              "                                                 url  \n",
              "0  https://tramita.tce.pb.gov.br/tramita/consulta...  \n",
              "1  https://tramita.tce.pb.gov.br/tramita/consulta...  \n",
              "2  https://tramita.tce.pb.gov.br/tramita/consulta...  \n",
              "3  https://tramita.tce.pb.gov.br/tramita/consulta...  \n",
              "4  https://tramita.tce.pb.gov.br/tramita/consulta...  "
            ],
            "text/html": [
              "\n",
              "  <div id=\"df-613b7044-8586-4d76-8bd4-0ff9a32c6c76\">\n",
              "    <div class=\"colab-df-container\">\n",
              "      <div>\n",
              "<style scoped>\n",
              "    .dataframe tbody tr th:only-of-type {\n",
              "        vertical-align: middle;\n",
              "    }\n",
              "\n",
              "    .dataframe tbody tr th {\n",
              "        vertical-align: top;\n",
              "    }\n",
              "\n",
              "    .dataframe thead th {\n",
              "        text-align: right;\n",
              "    }\n",
              "</style>\n",
              "<table border=\"1\" class=\"dataframe\">\n",
              "  <thead>\n",
              "    <tr style=\"text-align: right;\">\n",
              "      <th></th>\n",
              "      <th>protocolo_licitacao</th>\n",
              "      <th>numero_licitacao</th>\n",
              "      <th>nome_modalidade_licitacao</th>\n",
              "      <th>nome_municipio</th>\n",
              "      <th>cd_ugestora</th>\n",
              "      <th>jurisdicionado_id</th>\n",
              "      <th>nome_jurisdicionado</th>\n",
              "      <th>nome_tipo_jurisdicionado</th>\n",
              "      <th>nome_tipo_administracao_jurisdicionado</th>\n",
              "      <th>nome_esfera_jurisdicionado</th>\n",
              "      <th>objeto_licitacao</th>\n",
              "      <th>valor_estimado_licitacao</th>\n",
              "      <th>valor_licitado_licitacao</th>\n",
              "      <th>data_homologacao_licitacao</th>\n",
              "      <th>ano_homologacao_licitacao</th>\n",
              "      <th>situacao_fracassada_licitacao</th>\n",
              "      <th>nome_proponente</th>\n",
              "      <th>cpf_cnpj_proponente</th>\n",
              "      <th>valor_proposta</th>\n",
              "      <th>situacao_proposta</th>\n",
              "      <th>nome_estagio_processual_licitacao</th>\n",
              "      <th>nome_setor_atual_licitacao</th>\n",
              "      <th>url</th>\n",
              "    </tr>\n",
              "  </thead>\n",
              "  <tbody>\n",
              "    <tr>\n",
              "      <th>0</th>\n",
              "      <td>Doc. 00625/14</td>\n",
              "      <td>00001/2014</td>\n",
              "      <td>PregÃ£o Presencial</td>\n",
              "      <td>NaN</td>\n",
              "      <td>50001</td>\n",
              "      <td>897</td>\n",
              "      <td>Tribunal de JustiÃ§a</td>\n",
              "      <td>Poder / ÃrgÃ£o Independente</td>\n",
              "      <td>Direta</td>\n",
              "      <td>Estadual</td>\n",
              "      <td>LocaÃ§Ã£o de equipamentos para o sistema de vi...</td>\n",
              "      <td>81600.0</td>\n",
              "      <td>75600.0</td>\n",
              "      <td>14/02/2014</td>\n",
              "      <td>2014.0</td>\n",
              "      <td>NÃ£o</td>\n",
              "      <td>APEL - AplicaÃ§Ãµes EletrÃ´nicas Industria e C...</td>\n",
              "      <td>08991515000102</td>\n",
              "      <td>78000.0</td>\n",
              "      <td>Vencedora</td>\n",
              "      <td>Formalizado</td>\n",
              "      <td>ACERVO DIGITAL</td>\n",
              "      <td>https://tramita.tce.pb.gov.br/tramita/consulta...</td>\n",
              "    </tr>\n",
              "    <tr>\n",
              "      <th>1</th>\n",
              "      <td>Doc. 00707/14</td>\n",
              "      <td>00001/2014</td>\n",
              "      <td>PregÃ£o Presencial</td>\n",
              "      <td>Desterro</td>\n",
              "      <td>201073</td>\n",
              "      <td>658</td>\n",
              "      <td>Prefeitura Municipal de Desterro</td>\n",
              "      <td>Prefeitura</td>\n",
              "      <td>Direta</td>\n",
              "      <td>Municipal</td>\n",
              "      <td>AquisiÃ§Ã£o de 04 (quatro) Carretas Basculante...</td>\n",
              "      <td>60000.0</td>\n",
              "      <td>54000.0</td>\n",
              "      <td>20/01/2014</td>\n",
              "      <td>2014.0</td>\n",
              "      <td>NÃ£o</td>\n",
              "      <td>Veneza Maquinas Comercio Ltda</td>\n",
              "      <td>06824439000204</td>\n",
              "      <td>54000.0</td>\n",
              "      <td>Vencedora</td>\n",
              "      <td>Formalizado</td>\n",
              "      <td>ACERVO DIGITAL</td>\n",
              "      <td>https://tramita.tce.pb.gov.br/tramita/consulta...</td>\n",
              "    </tr>\n",
              "    <tr>\n",
              "      <th>2</th>\n",
              "      <td>Doc. 00714/14</td>\n",
              "      <td>00001/2014</td>\n",
              "      <td>PregÃ£o Presencial</td>\n",
              "      <td>Juru</td>\n",
              "      <td>201100</td>\n",
              "      <td>686</td>\n",
              "      <td>Prefeitura Municipal de Juru</td>\n",
              "      <td>Prefeitura</td>\n",
              "      <td>Direta</td>\n",
              "      <td>Municipal</td>\n",
              "      <td>ContrataÃ§Ã£o de empresa para aquisiÃ§Ã£o de c...</td>\n",
              "      <td>500000.0</td>\n",
              "      <td>596300.0</td>\n",
              "      <td>24/01/2014</td>\n",
              "      <td>2014.0</td>\n",
              "      <td>NÃ£o</td>\n",
              "      <td>COMERCIAL DE COMBUSTIVEIS NORDESTE</td>\n",
              "      <td>09382946000134</td>\n",
              "      <td>137400.0</td>\n",
              "      <td>Vencedora</td>\n",
              "      <td>Formalizado</td>\n",
              "      <td>ACERVO DIGITAL</td>\n",
              "      <td>https://tramita.tce.pb.gov.br/tramita/consulta...</td>\n",
              "    </tr>\n",
              "    <tr>\n",
              "      <th>3</th>\n",
              "      <td>Doc. 00714/14</td>\n",
              "      <td>00001/2014</td>\n",
              "      <td>PregÃ£o Presencial</td>\n",
              "      <td>Juru</td>\n",
              "      <td>201100</td>\n",
              "      <td>686</td>\n",
              "      <td>Prefeitura Municipal de Juru</td>\n",
              "      <td>Prefeitura</td>\n",
              "      <td>Direta</td>\n",
              "      <td>Municipal</td>\n",
              "      <td>ContrataÃ§Ã£o de empresa para aquisiÃ§Ã£o de c...</td>\n",
              "      <td>500000.0</td>\n",
              "      <td>596300.0</td>\n",
              "      <td>24/01/2014</td>\n",
              "      <td>2014.0</td>\n",
              "      <td>NÃ£o</td>\n",
              "      <td>CESAR POSTO</td>\n",
              "      <td>00188092000185</td>\n",
              "      <td>351900.0</td>\n",
              "      <td>Vencedora</td>\n",
              "      <td>Formalizado</td>\n",
              "      <td>ACERVO DIGITAL</td>\n",
              "      <td>https://tramita.tce.pb.gov.br/tramita/consulta...</td>\n",
              "    </tr>\n",
              "    <tr>\n",
              "      <th>4</th>\n",
              "      <td>Doc. 00714/14</td>\n",
              "      <td>00001/2014</td>\n",
              "      <td>PregÃ£o Presencial</td>\n",
              "      <td>Juru</td>\n",
              "      <td>201100</td>\n",
              "      <td>686</td>\n",
              "      <td>Prefeitura Municipal de Juru</td>\n",
              "      <td>Prefeitura</td>\n",
              "      <td>Direta</td>\n",
              "      <td>Municipal</td>\n",
              "      <td>ContrataÃ§Ã£o de empresa para aquisiÃ§Ã£o de c...</td>\n",
              "      <td>500000.0</td>\n",
              "      <td>596300.0</td>\n",
              "      <td>24/01/2014</td>\n",
              "      <td>2014.0</td>\n",
              "      <td>NÃ£o</td>\n",
              "      <td>RI COMERCIO DE DERIVADOS DE PETROLEO</td>\n",
              "      <td>03562340000102</td>\n",
              "      <td>104000.0</td>\n",
              "      <td>Vencedora</td>\n",
              "      <td>Formalizado</td>\n",
              "      <td>ACERVO DIGITAL</td>\n",
              "      <td>https://tramita.tce.pb.gov.br/tramita/consulta...</td>\n",
              "    </tr>\n",
              "  </tbody>\n",
              "</table>\n",
              "</div>\n",
              "      <button class=\"colab-df-convert\" onclick=\"convertToInteractive('df-613b7044-8586-4d76-8bd4-0ff9a32c6c76')\"\n",
              "              title=\"Convert this dataframe to an interactive table.\"\n",
              "              style=\"display:none;\">\n",
              "        \n",
              "  <svg xmlns=\"http://www.w3.org/2000/svg\" height=\"24px\"viewBox=\"0 0 24 24\"\n",
              "       width=\"24px\">\n",
              "    <path d=\"M0 0h24v24H0V0z\" fill=\"none\"/>\n",
              "    <path d=\"M18.56 5.44l.94 2.06.94-2.06 2.06-.94-2.06-.94-.94-2.06-.94 2.06-2.06.94zm-11 1L8.5 8.5l.94-2.06 2.06-.94-2.06-.94L8.5 2.5l-.94 2.06-2.06.94zm10 10l.94 2.06.94-2.06 2.06-.94-2.06-.94-.94-2.06-.94 2.06-2.06.94z\"/><path d=\"M17.41 7.96l-1.37-1.37c-.4-.4-.92-.59-1.43-.59-.52 0-1.04.2-1.43.59L10.3 9.45l-7.72 7.72c-.78.78-.78 2.05 0 2.83L4 21.41c.39.39.9.59 1.41.59.51 0 1.02-.2 1.41-.59l7.78-7.78 2.81-2.81c.8-.78.8-2.07 0-2.86zM5.41 20L4 18.59l7.72-7.72 1.47 1.35L5.41 20z\"/>\n",
              "  </svg>\n",
              "      </button>\n",
              "      \n",
              "  <style>\n",
              "    .colab-df-container {\n",
              "      display:flex;\n",
              "      flex-wrap:wrap;\n",
              "      gap: 12px;\n",
              "    }\n",
              "\n",
              "    .colab-df-convert {\n",
              "      background-color: #E8F0FE;\n",
              "      border: none;\n",
              "      border-radius: 50%;\n",
              "      cursor: pointer;\n",
              "      display: none;\n",
              "      fill: #1967D2;\n",
              "      height: 32px;\n",
              "      padding: 0 0 0 0;\n",
              "      width: 32px;\n",
              "    }\n",
              "\n",
              "    .colab-df-convert:hover {\n",
              "      background-color: #E2EBFA;\n",
              "      box-shadow: 0px 1px 2px rgba(60, 64, 67, 0.3), 0px 1px 3px 1px rgba(60, 64, 67, 0.15);\n",
              "      fill: #174EA6;\n",
              "    }\n",
              "\n",
              "    [theme=dark] .colab-df-convert {\n",
              "      background-color: #3B4455;\n",
              "      fill: #D2E3FC;\n",
              "    }\n",
              "\n",
              "    [theme=dark] .colab-df-convert:hover {\n",
              "      background-color: #434B5C;\n",
              "      box-shadow: 0px 1px 3px 1px rgba(0, 0, 0, 0.15);\n",
              "      filter: drop-shadow(0px 1px 2px rgba(0, 0, 0, 0.3));\n",
              "      fill: #FFFFFF;\n",
              "    }\n",
              "  </style>\n",
              "\n",
              "      <script>\n",
              "        const buttonEl =\n",
              "          document.querySelector('#df-613b7044-8586-4d76-8bd4-0ff9a32c6c76 button.colab-df-convert');\n",
              "        buttonEl.style.display =\n",
              "          google.colab.kernel.accessAllowed ? 'block' : 'none';\n",
              "\n",
              "        async function convertToInteractive(key) {\n",
              "          const element = document.querySelector('#df-613b7044-8586-4d76-8bd4-0ff9a32c6c76');\n",
              "          const dataTable =\n",
              "            await google.colab.kernel.invokeFunction('convertToInteractive',\n",
              "                                                     [key], {});\n",
              "          if (!dataTable) return;\n",
              "\n",
              "          const docLinkHtml = 'Like what you see? Visit the ' +\n",
              "            '<a target=\"_blank\" href=https://colab.research.google.com/notebooks/data_table.ipynb>data table notebook</a>'\n",
              "            + ' to learn more about interactive tables.';\n",
              "          element.innerHTML = '';\n",
              "          dataTable['output_type'] = 'display_data';\n",
              "          await google.colab.output.renderOutput(dataTable, element);\n",
              "          const docLink = document.createElement('div');\n",
              "          docLink.innerHTML = docLinkHtml;\n",
              "          element.appendChild(docLink);\n",
              "        }\n",
              "      </script>\n",
              "    </div>\n",
              "  </div>\n",
              "  "
            ]
          },
          "metadata": {},
          "execution_count": 4
        }
      ]
    },
    {
      "cell_type": "code",
      "source": [
        "df.info()"
      ],
      "metadata": {
        "colab": {
          "base_uri": "https://localhost:8080/"
        },
        "id": "nrcIQ-tuZfA2",
        "outputId": "b6398bbf-190e-4b63-de33-33a0aed2e921"
      },
      "execution_count": 5,
      "outputs": [
        {
          "output_type": "stream",
          "name": "stdout",
          "text": [
            "<class 'pandas.core.frame.DataFrame'>\n",
            "RangeIndex: 309270 entries, 0 to 309269\n",
            "Data columns (total 23 columns):\n",
            " #   Column                                  Non-Null Count   Dtype  \n",
            "---  ------                                  --------------   -----  \n",
            " 0   protocolo_licitacao                     309270 non-null  object \n",
            " 1   numero_licitacao                        309270 non-null  object \n",
            " 2   nome_modalidade_licitacao               309270 non-null  object \n",
            " 3   nome_municipio                          269312 non-null  object \n",
            " 4   cd_ugestora                             309270 non-null  int64  \n",
            " 5   jurisdicionado_id                       309270 non-null  int64  \n",
            " 6   nome_jurisdicionado                     309270 non-null  object \n",
            " 7   nome_tipo_jurisdicionado                309270 non-null  object \n",
            " 8   nome_tipo_administracao_jurisdicionado  309270 non-null  object \n",
            " 9   nome_esfera_jurisdicionado              309270 non-null  object \n",
            " 10  objeto_licitacao                        309270 non-null  object \n",
            " 11  valor_estimado_licitacao                268051 non-null  float64\n",
            " 12  valor_licitado_licitacao                309262 non-null  float64\n",
            " 13  data_homologacao_licitacao              309250 non-null  object \n",
            " 14  ano_homologacao_licitacao               309250 non-null  object \n",
            " 15  situacao_fracassada_licitacao           309270 non-null  object \n",
            " 16  nome_proponente                         309268 non-null  object \n",
            " 17  cpf_cnpj_proponente                     309255 non-null  object \n",
            " 18  valor_proposta                          309269 non-null  float64\n",
            " 19  situacao_proposta                       309269 non-null  object \n",
            " 20  nome_estagio_processual_licitacao       309269 non-null  object \n",
            " 21  nome_setor_atual_licitacao              309269 non-null  object \n",
            " 22  url                                     309269 non-null  object \n",
            "dtypes: float64(3), int64(2), object(18)\n",
            "memory usage: 54.3+ MB\n"
          ]
        }
      ]
    },
    {
      "cell_type": "code",
      "source": [
        "df = df.drop([\"protocolo_licitacao\", \"numero_licitacao\",\t\"nome_tipo_administracao_jurisdicionado\", \"cpf_cnpj_proponente\", \"nome_setor_atual_licitacao\", \"url\"], axis = 1)"
      ],
      "metadata": {
        "id": "K6WGAgM9bxbG"
      },
      "execution_count": 6,
      "outputs": []
    },
    {
      "cell_type": "code",
      "source": [
        "df.info()"
      ],
      "metadata": {
        "colab": {
          "base_uri": "https://localhost:8080/"
        },
        "id": "LCXgZHXXhuqk",
        "outputId": "f910b0f6-adc4-40b7-cc12-72686b5c17cf"
      },
      "execution_count": 7,
      "outputs": [
        {
          "output_type": "stream",
          "name": "stdout",
          "text": [
            "<class 'pandas.core.frame.DataFrame'>\n",
            "RangeIndex: 309270 entries, 0 to 309269\n",
            "Data columns (total 17 columns):\n",
            " #   Column                             Non-Null Count   Dtype  \n",
            "---  ------                             --------------   -----  \n",
            " 0   nome_modalidade_licitacao          309270 non-null  object \n",
            " 1   nome_municipio                     269312 non-null  object \n",
            " 2   cd_ugestora                        309270 non-null  int64  \n",
            " 3   jurisdicionado_id                  309270 non-null  int64  \n",
            " 4   nome_jurisdicionado                309270 non-null  object \n",
            " 5   nome_tipo_jurisdicionado           309270 non-null  object \n",
            " 6   nome_esfera_jurisdicionado         309270 non-null  object \n",
            " 7   objeto_licitacao                   309270 non-null  object \n",
            " 8   valor_estimado_licitacao           268051 non-null  float64\n",
            " 9   valor_licitado_licitacao           309262 non-null  float64\n",
            " 10  data_homologacao_licitacao         309250 non-null  object \n",
            " 11  ano_homologacao_licitacao          309250 non-null  object \n",
            " 12  situacao_fracassada_licitacao      309270 non-null  object \n",
            " 13  nome_proponente                    309268 non-null  object \n",
            " 14  valor_proposta                     309269 non-null  float64\n",
            " 15  situacao_proposta                  309269 non-null  object \n",
            " 16  nome_estagio_processual_licitacao  309269 non-null  object \n",
            "dtypes: float64(3), int64(2), object(12)\n",
            "memory usage: 40.1+ MB\n"
          ]
        }
      ]
    },
    {
      "cell_type": "code",
      "source": [
        "df[\"situacao_fracassada_licitacao\"] = df[\"situacao_fracassada_licitacao\"].replace({\"NÃ£o\":\"0\"})"
      ],
      "metadata": {
        "id": "9YUv1DFfKpCh"
      },
      "execution_count": 8,
      "outputs": []
    },
    {
      "cell_type": "code",
      "source": [
        "df[\"situacao_fracassada_licitacao\"] = df[\"situacao_fracassada_licitacao\"].replace({\"Sim\":\"1\"})"
      ],
      "metadata": {
        "id": "4p9gVmU6Lao_"
      },
      "execution_count": 9,
      "outputs": []
    },
    {
      "cell_type": "code",
      "source": [
        "df[\"nome_municipio\"] = df[\"nome_municipio\"].replace({\"BelÃ©m\":\"Belém\"})"
      ],
      "metadata": {
        "id": "J0HRa4FqKlOc"
      },
      "execution_count": 10,
      "outputs": []
    },
    {
      "cell_type": "code",
      "source": [
        "sns.countplot(x=\"situacao_fracassada_licitacao\", data=df)"
      ],
      "metadata": {
        "colab": {
          "base_uri": "https://localhost:8080/",
          "height": 303
        },
        "id": "JQ8CJ43yLTV1",
        "outputId": "293169bb-99a4-4376-919c-51b17a80044e"
      },
      "execution_count": 11,
      "outputs": [
        {
          "output_type": "execute_result",
          "data": {
            "text/plain": [
              "<matplotlib.axes._subplots.AxesSubplot at 0x7f5a8b232550>"
            ]
          },
          "metadata": {},
          "execution_count": 11
        },
        {
          "output_type": "display_data",
          "data": {
            "text/plain": [
              "<Figure size 432x288 with 1 Axes>"
            ],
            "image/png": "[encoded data removed]"
          },
          "metadata": {
            "needs_background": "light"
          }
        }
      ]
    },
    {
      "cell_type": "code",
      "source": [
        "sns.countplot(x=\"situacao_proposta\", data=df)"
      ],
      "metadata": {
        "colab": {
          "base_uri": "https://localhost:8080/",
          "height": 303
        },
        "id": "5vOS-JmPQSdP",
        "outputId": "359f964a-fdf1-47eb-e483-84cf44241f3d"
      },
      "execution_count": 12,
      "outputs": [
        {
          "output_type": "execute_result",
          "data": {
            "text/plain": [
              "<matplotlib.axes._subplots.AxesSubplot at 0x7f5a84e32b10>"
            ]
          },
          "metadata": {},
          "execution_count": 12
        },
        {
          "output_type": "display_data",
          "data": {
            "text/plain": [
              "<Figure size 432x288 with 1 Axes>"
            ],
            "image/png": "[encoded data removed]"
          },
          "metadata": {
            "needs_background": "light"
          }
        }
      ]
    },
    {
      "cell_type": "code",
      "source": [
        "plt.pyplot.figure(figsize=(20,5))\n",
        "sns.countplot(x=\"nome_esfera_jurisdicionado\", data=df)"
      ],
      "metadata": {
        "colab": {
          "base_uri": "https://localhost:8080/",
          "height": 357
        },
        "id": "DAtK4aAoLynZ",
        "outputId": "9b70015e-1600-4c9d-f6bf-70997097f16b"
      },
      "execution_count": 13,
      "outputs": [
        {
          "output_type": "execute_result",
          "data": {
            "text/plain": [
              "<matplotlib.axes._subplots.AxesSubplot at 0x7f5a849cc750>"
            ]
          },
          "metadata": {},
          "execution_count": 13
        },
        {
          "output_type": "display_data",
          "data": {
            "text/plain": [
              "<Figure size 1440x360 with 1 Axes>"
            ],
            "image/png": "[encoded data removed]"
          },
          "metadata": {
            "needs_background": "light"
          }
        }
      ]
    },
    {
      "cell_type": "code",
      "source": [
        "plt.pyplot.figure(figsize=(20,5))\n",
        "sns.countplot(x=\"ano_homologacao_licitacao\", data=df)"
      ],
      "metadata": {
        "colab": {
          "base_uri": "https://localhost:8080/",
          "height": 360
        },
        "id": "7WF2Iwg-OTXw",
        "outputId": "31e3528a-41d6-4805-93ae-eccce77c427d"
      },
      "execution_count": 14,
      "outputs": [
        {
          "output_type": "execute_result",
          "data": {
            "text/plain": [
              "<matplotlib.axes._subplots.AxesSubplot at 0x7f5a849c4fd0>"
            ]
          },
          "metadata": {},
          "execution_count": 14
        },
        {
          "output_type": "display_data",
          "data": {
            "text/plain": [
              "<Figure size 1440x360 with 1 Axes>"
            ],
            "image/png": "[encoded data removed]"
          },
          "metadata": {
            "needs_background": "light"
          }
        }
      ]
    },
    {
      "cell_type": "code",
      "source": [
        "plt.pyplot.figure(figsize=(20,5))\n",
        "sns.countplot(x=\"nome_estagio_processual_licitacao\", data=df)"
      ],
      "metadata": {
        "colab": {
          "base_uri": "https://localhost:8080/",
          "height": 359
        },
        "id": "hVH3wKOvPG1o",
        "outputId": "706b19b4-5e28-4e33-86bc-0604ec8f6345"
      },
      "execution_count": 15,
      "outputs": [
        {
          "output_type": "execute_result",
          "data": {
            "text/plain": [
              "<matplotlib.axes._subplots.AxesSubplot at 0x7f5a848d0550>"
            ]
          },
          "metadata": {},
          "execution_count": 15
        },
        {
          "output_type": "display_data",
          "data": {
            "text/plain": [
              "<Figure size 1440x360 with 1 Axes>"
            ],
            "image/png": "[encoded data removed]"
          },
          "metadata": {
            "needs_background": "light"
          }
        }
      ]
    },
    {
      "cell_type": "code",
      "source": [
        "df_estagio_process = df[\"nome_estagio_processual_licitacao\"]"
      ],
      "metadata": {
        "id": "xazakqLwRTGc"
      },
      "execution_count": 16,
      "outputs": []
    },
    {
      "cell_type": "code",
      "source": [
        "df[\"nome_estagio_processual_licitacao\"] = df[\"nome_estagio_processual_licitacao\"].replace({\"Agendado para SessÃ£o\":\"agendado para sessao\"})"
      ],
      "metadata": {
        "id": "Un1_0d1zS2ab"
      },
      "execution_count": 17,
      "outputs": []
    },
    {
      "cell_type": "code",
      "source": [
        "df[\"nome_estagio_processual_licitacao\"] = df[\"nome_estagio_processual_licitacao\"].replace({\"Aguardando Assinatura de DecisÃ£o\":\"aguardando assinatura de decisao\"})"
      ],
      "metadata": {
        "id": "oRhPeolwTM-z"
      },
      "execution_count": 18,
      "outputs": []
    },
    {
      "cell_type": "code",
      "source": [
        "df[\"nome_estagio_processual_licitacao\"] = df[\"nome_estagio_processual_licitacao\"].replace({\"Aguardando InserÃ§Ã£o de DecisÃ£o\":\"aguardando insercao de decisao\"})"
      ],
      "metadata": {
        "id": "RmCPm2w7TaYx"
      },
      "execution_count": 19,
      "outputs": []
    },
    {
      "cell_type": "code",
      "source": [
        "df[\"nome_estagio_processual_licitacao\"] = df[\"nome_estagio_processual_licitacao\"].replace({\"Aguardando PublicaÃ§Ã£o de DecisÃ£o\":\"aguardando publicacao de decisao\"})"
      ],
      "metadata": {
        "id": "KGwwSATDTsYH"
      },
      "execution_count": 20,
      "outputs": []
    },
    {
      "cell_type": "code",
      "source": [
        "df_estagio_process.sort_values(ascending=True)"
      ],
      "metadata": {
        "colab": {
          "base_uri": "https://localhost:8080/"
        },
        "id": "9GxQrJZORsg2",
        "outputId": "6a8f5fdf-e533-43e0-e95f-2f1554ab8b4b"
      },
      "execution_count": 21,
      "outputs": [
        {
          "output_type": "execute_result",
          "data": {
            "text/plain": [
              "86719                        Aguardando AR\n",
              "96874                            Arquivado\n",
              "295775                  Com Cota do MPjTCE\n",
              "14387                   Com Cota do MPjTCE\n",
              "25035                   Com Cota do MPjTCE\n",
              "                        ...               \n",
              "5915      aguardando publicacao de decisao\n",
              "5916      aguardando publicacao de decisao\n",
              "5797      aguardando publicacao de decisao\n",
              "2790      aguardando publicacao de decisao\n",
              "89480                                  NaN\n",
              "Name: nome_estagio_processual_licitacao, Length: 309270, dtype: object"
            ]
          },
          "metadata": {},
          "execution_count": 21
        }
      ]
    },
    {
      "cell_type": "code",
      "source": [
        "df = df.dropna()"
      ],
      "metadata": {
        "id": "dRXsfJHZNsSQ"
      },
      "execution_count": 22,
      "outputs": []
    },
    {
      "cell_type": "code",
      "source": [
        "df.isna().sum()"
      ],
      "metadata": {
        "colab": {
          "base_uri": "https://localhost:8080/"
        },
        "id": "aRsqgKAgOBCQ",
        "outputId": "e8779422-53c3-4928-faf4-18f3390ea9c7"
      },
      "execution_count": 23,
      "outputs": [
        {
          "output_type": "execute_result",
          "data": {
            "text/plain": [
              "nome_modalidade_licitacao            0\n",
              "nome_municipio                       0\n",
              "cd_ugestora                          0\n",
              "jurisdicionado_id                    0\n",
              "nome_jurisdicionado                  0\n",
              "nome_tipo_jurisdicionado             0\n",
              "nome_esfera_jurisdicionado           0\n",
              "objeto_licitacao                     0\n",
              "valor_estimado_licitacao             0\n",
              "valor_licitado_licitacao             0\n",
              "data_homologacao_licitacao           0\n",
              "ano_homologacao_licitacao            0\n",
              "situacao_fracassada_licitacao        0\n",
              "nome_proponente                      0\n",
              "valor_proposta                       0\n",
              "situacao_proposta                    0\n",
              "nome_estagio_processual_licitacao    0\n",
              "dtype: int64"
            ]
          },
          "metadata": {},
          "execution_count": 23
        }
      ]
    },
    {
      "cell_type": "code",
      "source": [
        "df[\"ano_homologacao_licitacao\"] = df[\"ano_homologacao_licitacao\"].astype('int64')"
      ],
      "metadata": {
        "id": "0eg-Lm5pMdX7"
      },
      "execution_count": 24,
      "outputs": []
    },
    {
      "cell_type": "code",
      "source": [
        "df = df.drop([\"situacao_fracassada_licitacao\"], axis = 1)"
      ],
      "metadata": {
        "id": "uHAytabXLlbg"
      },
      "execution_count": 25,
      "outputs": []
    },
    {
      "cell_type": "code",
      "source": [
        "df.tail(500)"
      ],
      "metadata": {
        "colab": {
          "base_uri": "https://localhost:8080/",
          "height": 974
        },
        "id": "iwHCExdYn6Uu",
        "outputId": "0bd19e5a-c5c1-4388-8531-4541c82aa7f2"
      },
      "execution_count": 26,
      "outputs": [
        {
          "output_type": "execute_result",
          "data": {
            "text/plain": [
              "       nome_modalidade_licitacao nome_municipio  cd_ugestora  \\\n",
              "306898       PregÃ£o EletrÃ´nico          Belém       601026   \n",
              "306899       PregÃ£o EletrÃ´nico          Belém       601026   \n",
              "306907        PregÃ£o Presencial     Bananeiras       101020   \n",
              "306908        PregÃ£o Presencial       Mataraca       601116   \n",
              "306909        PregÃ£o Presencial       Mataraca       601116   \n",
              "...                          ...            ...          ...   \n",
              "309255       PregÃ£o EletrÃ´nico       Diamante       201074   \n",
              "309256       PregÃ£o EletrÃ´nico       Diamante       201074   \n",
              "309257       PregÃ£o EletrÃ´nico       Diamante       201074   \n",
              "309258       PregÃ£o EletrÃ´nico       Diamante       201074   \n",
              "309259       PregÃ£o EletrÃ´nico       Diamante       201074   \n",
              "\n",
              "        jurisdicionado_id                    nome_jurisdicionado  \\\n",
              "306898              11843    Fundo Municipal de SaÃºde de BelÃ©m   \n",
              "306899              11843    Fundo Municipal de SaÃºde de BelÃ©m   \n",
              "306907                 39        CÃ¢mara Municipal de Bananeiras   \n",
              "306908              15503  Fundo Municipal de SaÃºde de Mataraca   \n",
              "306909              15503  Fundo Municipal de SaÃºde de Mataraca   \n",
              "...                   ...                                    ...   \n",
              "309255                660       Prefeitura Municipal de Diamante   \n",
              "309256                660       Prefeitura Municipal de Diamante   \n",
              "309257                660       Prefeitura Municipal de Diamante   \n",
              "309258                660       Prefeitura Municipal de Diamante   \n",
              "309259                660       Prefeitura Municipal de Diamante   \n",
              "\n",
              "       nome_tipo_jurisdicionado nome_esfera_jurisdicionado  \\\n",
              "306898                    Fundo                  Municipal   \n",
              "306899                    Fundo                  Municipal   \n",
              "306907        CÃ¢mara Municipal                  Municipal   \n",
              "306908                    Fundo                  Municipal   \n",
              "306909                    Fundo                  Municipal   \n",
              "...                         ...                        ...   \n",
              "309255               Prefeitura                  Municipal   \n",
              "309256               Prefeitura                  Municipal   \n",
              "309257               Prefeitura                  Municipal   \n",
              "309258               Prefeitura                  Municipal   \n",
              "309259               Prefeitura                  Municipal   \n",
              "\n",
              "                                         objeto_licitacao  \\\n",
              "306898  AQUISIÃÃO DE PATRULHA AGRÃCOLA PARA O MUNIC...   \n",
              "306899  AQUISIÃÃO DE PATRULHA AGRÃCOLA PARA O MUNIC...   \n",
              "306907  AQUISIÃÃO, INSTALAÃÃO E CONFIGURAÃÃO DE ...   \n",
              "306908  SeleÃ§Ã£o e ContrataÃ§Ã£o de pessoas jurÃ­dica...   \n",
              "306909  SeleÃ§Ã£o e ContrataÃ§Ã£o de pessoas jurÃ­dica...   \n",
              "...                                                   ...   \n",
              "309255  AquisiÃ§Ã£o de material mÃ©dico hospitalar par...   \n",
              "309256  AquisiÃ§Ã£o de material mÃ©dico hospitalar par...   \n",
              "309257  AquisiÃ§Ã£o de material mÃ©dico hospitalar par...   \n",
              "309258  AquisiÃ§Ã£o de material mÃ©dico hospitalar par...   \n",
              "309259  AquisiÃ§Ã£o de material mÃ©dico hospitalar par...   \n",
              "\n",
              "        valor_estimado_licitacao  valor_licitado_licitacao  \\\n",
              "306898                 274666.67                 235890.00   \n",
              "306899                 274666.67                 235890.00   \n",
              "306907                  85000.00                  78745.00   \n",
              "306908                  88500.00                  88500.00   \n",
              "306909                  88500.00                  88500.00   \n",
              "...                          ...                       ...   \n",
              "309255                 288959.54                  82365.18   \n",
              "309256                 288959.54                  82365.18   \n",
              "309257                 288959.54                  82365.18   \n",
              "309258                 288959.54                  82365.18   \n",
              "309259                 288959.54                  82365.18   \n",
              "\n",
              "       data_homologacao_licitacao  ano_homologacao_licitacao  \\\n",
              "306898                 01/12/2021                       2021   \n",
              "306899                 01/12/2021                       2021   \n",
              "306907                 30/11/2021                       2021   \n",
              "306908                 18/11/2021                       2021   \n",
              "306909                 18/11/2021                       2021   \n",
              "...                           ...                        ...   \n",
              "309255                 27/09/2021                       2021   \n",
              "309256                 27/09/2021                       2021   \n",
              "309257                 27/09/2021                       2021   \n",
              "309258                 27/09/2021                       2021   \n",
              "309259                 27/09/2021                       2021   \n",
              "\n",
              "                                          nome_proponente  valor_proposta  \\\n",
              "306898  Agro Shop Comercio Varejista de Medicamentos E...        60000.00   \n",
              "306899      FORNECEDORA AGRICOLA COMERCIO E SERVICOS LTDA       274000.00   \n",
              "306907  Total Comercio Varejista de Equipamentos de So...        78745.00   \n",
              "306908                         LUCINETE LUCENA DE ALMEIDA        30500.00   \n",
              "306909                    MARIA DA PENHA SILVA DE AZEVEDO        58000.00   \n",
              "...                                                   ...             ...   \n",
              "309255                       ALEXANDRE R BARBOSA DA SILVA         7289.65   \n",
              "309256                      Ulisses E Cordeiro de Santana         8840.45   \n",
              "309257  ALMED ALDENIO DISTRIBUIDORA DE MEDICAMENTOS E ...        13449.75   \n",
              "309258  TECNOCENTER MATERIAIS MÃDICOS E HOSPITALARES ...         1100.00   \n",
              "309259     EXPRESS DISTRIBUIDORA DE MEDICAMENTOS LTDA-ME.        12238.45   \n",
              "\n",
              "       situacao_proposta nome_estagio_processual_licitacao  \n",
              "306898         Vencedora                       Formalizado  \n",
              "306899         Vencedora                       Formalizado  \n",
              "306907         Vencedora                       Formalizado  \n",
              "306908         Vencedora                       Formalizado  \n",
              "306909         Vencedora                       Formalizado  \n",
              "...                  ...                               ...  \n",
              "309255         Vencedora                       Formalizado  \n",
              "309256         Vencedora                       Formalizado  \n",
              "309257         Vencedora                       Formalizado  \n",
              "309258         Vencedora                       Formalizado  \n",
              "309259         Vencedora                       Formalizado  \n",
              "\n",
              "[500 rows x 16 columns]"
            ],
            "text/html": [
              "\n",
              "  <div id=\"df-94892342-3fac-4bad-b44c-de70be534b34\">\n",
              "    <div class=\"colab-df-container\">\n",
              "      <div>\n",
              "<style scoped>\n",
              "    .dataframe tbody tr th:only-of-type {\n",
              "        vertical-align: middle;\n",
              "    }\n",
              "\n",
              "    .dataframe tbody tr th {\n",
              "        vertical-align: top;\n",
              "    }\n",
              "\n",
              "    .dataframe thead th {\n",
              "        text-align: right;\n",
              "    }\n",
              "</style>\n",
              "<table border=\"1\" class=\"dataframe\">\n",
              "  <thead>\n",
              "    <tr style=\"text-align: right;\">\n",
              "      <th></th>\n",
              "      <th>nome_modalidade_licitacao</th>\n",
              "      <th>nome_municipio</th>\n",
              "      <th>cd_ugestora</th>\n",
              "      <th>jurisdicionado_id</th>\n",
              "      <th>nome_jurisdicionado</th>\n",
              "      <th>nome_tipo_jurisdicionado</th>\n",
              "      <th>nome_esfera_jurisdicionado</th>\n",
              "      <th>objeto_licitacao</th>\n",
              "      <th>valor_estimado_licitacao</th>\n",
              "      <th>valor_licitado_licitacao</th>\n",
              "      <th>data_homologacao_licitacao</th>\n",
              "      <th>ano_homologacao_licitacao</th>\n",
              "      <th>nome_proponente</th>\n",
              "      <th>valor_proposta</th>\n",
              "      <th>situacao_proposta</th>\n",
              "      <th>nome_estagio_processual_licitacao</th>\n",
              "    </tr>\n",
              "  </thead>\n",
              "  <tbody>\n",
              "    <tr>\n",
              "      <th>306898</th>\n",
              "      <td>PregÃ£o EletrÃ´nico</td>\n",
              "      <td>Belém</td>\n",
              "      <td>601026</td>\n",
              "      <td>11843</td>\n",
              "      <td>Fundo Municipal de SaÃºde de BelÃ©m</td>\n",
              "      <td>Fundo</td>\n",
              "      <td>Municipal</td>\n",
              "      <td>AQUISIÃÃO DE PATRULHA AGRÃCOLA PARA O MUNIC...</td>\n",
              "      <td>274666.67</td>\n",
              "      <td>235890.00</td>\n",
              "      <td>01/12/2021</td>\n",
              "      <td>2021</td>\n",
              "      <td>Agro Shop Comercio Varejista de Medicamentos E...</td>\n",
              "      <td>60000.00</td>\n",
              "      <td>Vencedora</td>\n",
              "      <td>Formalizado</td>\n",
              "    </tr>\n",
              "    <tr>\n",
              "      <th>306899</th>\n",
              "      <td>PregÃ£o EletrÃ´nico</td>\n",
              "      <td>Belém</td>\n",
              "      <td>601026</td>\n",
              "      <td>11843</td>\n",
              "      <td>Fundo Municipal de SaÃºde de BelÃ©m</td>\n",
              "      <td>Fundo</td>\n",
              "      <td>Municipal</td>\n",
              "      <td>AQUISIÃÃO DE PATRULHA AGRÃCOLA PARA O MUNIC...</td>\n",
              "      <td>274666.67</td>\n",
              "      <td>235890.00</td>\n",
              "      <td>01/12/2021</td>\n",
              "      <td>2021</td>\n",
              "      <td>FORNECEDORA AGRICOLA COMERCIO E SERVICOS LTDA</td>\n",
              "      <td>274000.00</td>\n",
              "      <td>Vencedora</td>\n",
              "      <td>Formalizado</td>\n",
              "    </tr>\n",
              "    <tr>\n",
              "      <th>306907</th>\n",
              "      <td>PregÃ£o Presencial</td>\n",
              "      <td>Bananeiras</td>\n",
              "      <td>101020</td>\n",
              "      <td>39</td>\n",
              "      <td>CÃ¢mara Municipal de Bananeiras</td>\n",
              "      <td>CÃ¢mara Municipal</td>\n",
              "      <td>Municipal</td>\n",
              "      <td>AQUISIÃÃO, INSTALAÃÃO E CONFIGURAÃÃO DE ...</td>\n",
              "      <td>85000.00</td>\n",
              "      <td>78745.00</td>\n",
              "      <td>30/11/2021</td>\n",
              "      <td>2021</td>\n",
              "      <td>Total Comercio Varejista de Equipamentos de So...</td>\n",
              "      <td>78745.00</td>\n",
              "      <td>Vencedora</td>\n",
              "      <td>Formalizado</td>\n",
              "    </tr>\n",
              "    <tr>\n",
              "      <th>306908</th>\n",
              "      <td>PregÃ£o Presencial</td>\n",
              "      <td>Mataraca</td>\n",
              "      <td>601116</td>\n",
              "      <td>15503</td>\n",
              "      <td>Fundo Municipal de SaÃºde de Mataraca</td>\n",
              "      <td>Fundo</td>\n",
              "      <td>Municipal</td>\n",
              "      <td>SeleÃ§Ã£o e ContrataÃ§Ã£o de pessoas jurÃ­dica...</td>\n",
              "      <td>88500.00</td>\n",
              "      <td>88500.00</td>\n",
              "      <td>18/11/2021</td>\n",
              "      <td>2021</td>\n",
              "      <td>LUCINETE LUCENA DE ALMEIDA</td>\n",
              "      <td>30500.00</td>\n",
              "      <td>Vencedora</td>\n",
              "      <td>Formalizado</td>\n",
              "    </tr>\n",
              "    <tr>\n",
              "      <th>306909</th>\n",
              "      <td>PregÃ£o Presencial</td>\n",
              "      <td>Mataraca</td>\n",
              "      <td>601116</td>\n",
              "      <td>15503</td>\n",
              "      <td>Fundo Municipal de SaÃºde de Mataraca</td>\n",
              "      <td>Fundo</td>\n",
              "      <td>Municipal</td>\n",
              "      <td>SeleÃ§Ã£o e ContrataÃ§Ã£o de pessoas jurÃ­dica...</td>\n",
              "      <td>88500.00</td>\n",
              "      <td>88500.00</td>\n",
              "      <td>18/11/2021</td>\n",
              "      <td>2021</td>\n",
              "      <td>MARIA DA PENHA SILVA DE AZEVEDO</td>\n",
              "      <td>58000.00</td>\n",
              "      <td>Vencedora</td>\n",
              "      <td>Formalizado</td>\n",
              "    </tr>\n",
              "    <tr>\n",
              "      <th>...</th>\n",
              "      <td>...</td>\n",
              "      <td>...</td>\n",
              "      <td>...</td>\n",
              "      <td>...</td>\n",
              "      <td>...</td>\n",
              "      <td>...</td>\n",
              "      <td>...</td>\n",
              "      <td>...</td>\n",
              "      <td>...</td>\n",
              "      <td>...</td>\n",
              "      <td>...</td>\n",
              "      <td>...</td>\n",
              "      <td>...</td>\n",
              "      <td>...</td>\n",
              "      <td>...</td>\n",
              "      <td>...</td>\n",
              "    </tr>\n",
              "    <tr>\n",
              "      <th>309255</th>\n",
              "      <td>PregÃ£o EletrÃ´nico</td>\n",
              "      <td>Diamante</td>\n",
              "      <td>201074</td>\n",
              "      <td>660</td>\n",
              "      <td>Prefeitura Municipal de Diamante</td>\n",
              "      <td>Prefeitura</td>\n",
              "      <td>Municipal</td>\n",
              "      <td>AquisiÃ§Ã£o de material mÃ©dico hospitalar par...</td>\n",
              "      <td>288959.54</td>\n",
              "      <td>82365.18</td>\n",
              "      <td>27/09/2021</td>\n",
              "      <td>2021</td>\n",
              "      <td>ALEXANDRE R BARBOSA DA SILVA</td>\n",
              "      <td>7289.65</td>\n",
              "      <td>Vencedora</td>\n",
              "      <td>Formalizado</td>\n",
              "    </tr>\n",
              "    <tr>\n",
              "      <th>309256</th>\n",
              "      <td>PregÃ£o EletrÃ´nico</td>\n",
              "      <td>Diamante</td>\n",
              "      <td>201074</td>\n",
              "      <td>660</td>\n",
              "      <td>Prefeitura Municipal de Diamante</td>\n",
              "      <td>Prefeitura</td>\n",
              "      <td>Municipal</td>\n",
              "      <td>AquisiÃ§Ã£o de material mÃ©dico hospitalar par...</td>\n",
              "      <td>288959.54</td>\n",
              "      <td>82365.18</td>\n",
              "      <td>27/09/2021</td>\n",
              "      <td>2021</td>\n",
              "      <td>Ulisses E Cordeiro de Santana</td>\n",
              "      <td>8840.45</td>\n",
              "      <td>Vencedora</td>\n",
              "      <td>Formalizado</td>\n",
              "    </tr>\n",
              "    <tr>\n",
              "      <th>309257</th>\n",
              "      <td>PregÃ£o EletrÃ´nico</td>\n",
              "      <td>Diamante</td>\n",
              "      <td>201074</td>\n",
              "      <td>660</td>\n",
              "      <td>Prefeitura Municipal de Diamante</td>\n",
              "      <td>Prefeitura</td>\n",
              "      <td>Municipal</td>\n",
              "      <td>AquisiÃ§Ã£o de material mÃ©dico hospitalar par...</td>\n",
              "      <td>288959.54</td>\n",
              "      <td>82365.18</td>\n",
              "      <td>27/09/2021</td>\n",
              "      <td>2021</td>\n",
              "      <td>ALMED ALDENIO DISTRIBUIDORA DE MEDICAMENTOS E ...</td>\n",
              "      <td>13449.75</td>\n",
              "      <td>Vencedora</td>\n",
              "      <td>Formalizado</td>\n",
              "    </tr>\n",
              "    <tr>\n",
              "      <th>309258</th>\n",
              "      <td>PregÃ£o EletrÃ´nico</td>\n",
              "      <td>Diamante</td>\n",
              "      <td>201074</td>\n",
              "      <td>660</td>\n",
              "      <td>Prefeitura Municipal de Diamante</td>\n",
              "      <td>Prefeitura</td>\n",
              "      <td>Municipal</td>\n",
              "      <td>AquisiÃ§Ã£o de material mÃ©dico hospitalar par...</td>\n",
              "      <td>288959.54</td>\n",
              "      <td>82365.18</td>\n",
              "      <td>27/09/2021</td>\n",
              "      <td>2021</td>\n",
              "      <td>TECNOCENTER MATERIAIS MÃDICOS E HOSPITALARES ...</td>\n",
              "      <td>1100.00</td>\n",
              "      <td>Vencedora</td>\n",
              "      <td>Formalizado</td>\n",
              "    </tr>\n",
              "    <tr>\n",
              "      <th>309259</th>\n",
              "      <td>PregÃ£o EletrÃ´nico</td>\n",
              "      <td>Diamante</td>\n",
              "      <td>201074</td>\n",
              "      <td>660</td>\n",
              "      <td>Prefeitura Municipal de Diamante</td>\n",
              "      <td>Prefeitura</td>\n",
              "      <td>Municipal</td>\n",
              "      <td>AquisiÃ§Ã£o de material mÃ©dico hospitalar par...</td>\n",
              "      <td>288959.54</td>\n",
              "      <td>82365.18</td>\n",
              "      <td>27/09/2021</td>\n",
              "      <td>2021</td>\n",
              "      <td>EXPRESS DISTRIBUIDORA DE MEDICAMENTOS LTDA-ME.</td>\n",
              "      <td>12238.45</td>\n",
              "      <td>Vencedora</td>\n",
              "      <td>Formalizado</td>\n",
              "    </tr>\n",
              "  </tbody>\n",
              "</table>\n",
              "<p>500 rows × 16 columns</p>\n",
              "</div>\n",
              "      <button class=\"colab-df-convert\" onclick=\"convertToInteractive('df-94892342-3fac-4bad-b44c-de70be534b34')\"\n",
              "              title=\"Convert this dataframe to an interactive table.\"\n",
              "              style=\"display:none;\">\n",
              "        \n",
              "  <svg xmlns=\"http://www.w3.org/2000/svg\" height=\"24px\"viewBox=\"0 0 24 24\"\n",
              "       width=\"24px\">\n",
              "    <path d=\"M0 0h24v24H0V0z\" fill=\"none\"/>\n",
              "    <path d=\"M18.56 5.44l.94 2.06.94-2.06 2.06-.94-2.06-.94-.94-2.06-.94 2.06-2.06.94zm-11 1L8.5 8.5l.94-2.06 2.06-.94-2.06-.94L8.5 2.5l-.94 2.06-2.06.94zm10 10l.94 2.06.94-2.06 2.06-.94-2.06-.94-.94-2.06-.94 2.06-2.06.94z\"/><path d=\"M17.41 7.96l-1.37-1.37c-.4-.4-.92-.59-1.43-.59-.52 0-1.04.2-1.43.59L10.3 9.45l-7.72 7.72c-.78.78-.78 2.05 0 2.83L4 21.41c.39.39.9.59 1.41.59.51 0 1.02-.2 1.41-.59l7.78-7.78 2.81-2.81c.8-.78.8-2.07 0-2.86zM5.41 20L4 18.59l7.72-7.72 1.47 1.35L5.41 20z\"/>\n",
              "  </svg>\n",
              "      </button>\n",
              "      \n",
              "  <style>\n",
              "    .colab-df-container {\n",
              "      display:flex;\n",
              "      flex-wrap:wrap;\n",
              "      gap: 12px;\n",
              "    }\n",
              "\n",
              "    .colab-df-convert {\n",
              "      background-color: #E8F0FE;\n",
              "      border: none;\n",
              "      border-radius: 50%;\n",
              "      cursor: pointer;\n",
              "      display: none;\n",
              "      fill: #1967D2;\n",
              "      height: 32px;\n",
              "      padding: 0 0 0 0;\n",
              "      width: 32px;\n",
              "    }\n",
              "\n",
              "    .colab-df-convert:hover {\n",
              "      background-color: #E2EBFA;\n",
              "      box-shadow: 0px 1px 2px rgba(60, 64, 67, 0.3), 0px 1px 3px 1px rgba(60, 64, 67, 0.15);\n",
              "      fill: #174EA6;\n",
              "    }\n",
              "\n",
              "    [theme=dark] .colab-df-convert {\n",
              "      background-color: #3B4455;\n",
              "      fill: #D2E3FC;\n",
              "    }\n",
              "\n",
              "    [theme=dark] .colab-df-convert:hover {\n",
              "      background-color: #434B5C;\n",
              "      box-shadow: 0px 1px 3px 1px rgba(0, 0, 0, 0.15);\n",
              "      filter: drop-shadow(0px 1px 2px rgba(0, 0, 0, 0.3));\n",
              "      fill: #FFFFFF;\n",
              "    }\n",
              "  </style>\n",
              "\n",
              "      <script>\n",
              "        const buttonEl =\n",
              "          document.querySelector('#df-94892342-3fac-4bad-b44c-de70be534b34 button.colab-df-convert');\n",
              "        buttonEl.style.display =\n",
              "          google.colab.kernel.accessAllowed ? 'block' : 'none';\n",
              "\n",
              "        async function convertToInteractive(key) {\n",
              "          const element = document.querySelector('#df-94892342-3fac-4bad-b44c-de70be534b34');\n",
              "          const dataTable =\n",
              "            await google.colab.kernel.invokeFunction('convertToInteractive',\n",
              "                                                     [key], {});\n",
              "          if (!dataTable) return;\n",
              "\n",
              "          const docLinkHtml = 'Like what you see? Visit the ' +\n",
              "            '<a target=\"_blank\" href=https://colab.research.google.com/notebooks/data_table.ipynb>data table notebook</a>'\n",
              "            + ' to learn more about interactive tables.';\n",
              "          element.innerHTML = '';\n",
              "          dataTable['output_type'] = 'display_data';\n",
              "          await google.colab.output.renderOutput(dataTable, element);\n",
              "          const docLink = document.createElement('div');\n",
              "          docLink.innerHTML = docLinkHtml;\n",
              "          element.appendChild(docLink);\n",
              "        }\n",
              "      </script>\n",
              "    </div>\n",
              "  </div>\n",
              "  "
            ]
          },
          "metadata": {},
          "execution_count": 26
        }
      ]
    },
    {
      "cell_type": "code",
      "source": [
        "df = df.drop(['nome_modalidade_licitacao', 'cd_ugestora',\t'jurisdicionado_id', 'nome_jurisdicionado', 'objeto_licitacao'], axis = 1)"
      ],
      "metadata": {
        "id": "QOJF1OHOJTxJ"
      },
      "execution_count": 27,
      "outputs": []
    },
    {
      "cell_type": "code",
      "source": [
        "df.head()"
      ],
      "metadata": {
        "colab": {
          "base_uri": "https://localhost:8080/",
          "height": 426
        },
        "id": "xVUjdoBbLYB9",
        "outputId": "025687ed-6995-418b-efa6-c46f66713994"
      },
      "execution_count": 28,
      "outputs": [
        {
          "output_type": "execute_result",
          "data": {
            "text/plain": [
              "  nome_municipio nome_tipo_jurisdicionado nome_esfera_jurisdicionado  \\\n",
              "1       Desterro               Prefeitura                  Municipal   \n",
              "2           Juru               Prefeitura                  Municipal   \n",
              "3           Juru               Prefeitura                  Municipal   \n",
              "4           Juru               Prefeitura                  Municipal   \n",
              "5   MarizÃ³polis               Prefeitura                  Municipal   \n",
              "\n",
              "   valor_estimado_licitacao  valor_licitado_licitacao  \\\n",
              "1                   60000.0                   54000.0   \n",
              "2                  500000.0                  596300.0   \n",
              "3                  500000.0                  596300.0   \n",
              "4                  500000.0                  596300.0   \n",
              "5                  620000.0                  567952.5   \n",
              "\n",
              "  data_homologacao_licitacao  ano_homologacao_licitacao  \\\n",
              "1                 20/01/2014                       2014   \n",
              "2                 24/01/2014                       2014   \n",
              "3                 24/01/2014                       2014   \n",
              "4                 24/01/2014                       2014   \n",
              "5                 03/02/2014                       2014   \n",
              "\n",
              "                               nome_proponente  valor_proposta  \\\n",
              "1                Veneza Maquinas Comercio Ltda         54000.0   \n",
              "2           COMERCIAL DE COMBUSTIVEIS NORDESTE        137400.0   \n",
              "3                                  CESAR POSTO        351900.0   \n",
              "4         RI COMERCIO DE DERIVADOS DE PETROLEO        104000.0   \n",
              "5  MARIA DE FÃTIMA CARTAXO ANDRADE & CIA LTDA        567952.5   \n",
              "\n",
              "  situacao_proposta nome_estagio_processual_licitacao  \n",
              "1         Vencedora                       Formalizado  \n",
              "2         Vencedora                       Formalizado  \n",
              "3         Vencedora                       Formalizado  \n",
              "4         Vencedora                       Formalizado  \n",
              "5         Vencedora                       Formalizado  "
            ],
            "text/html": [
              "\n",
              "  <div id=\"df-56630feb-0696-4fef-b123-0aa99a43c4c9\">\n",
              "    <div class=\"colab-df-container\">\n",
              "      <div>\n",
              "<style scoped>\n",
              "    .dataframe tbody tr th:only-of-type {\n",
              "        vertical-align: middle;\n",
              "    }\n",
              "\n",
              "    .dataframe tbody tr th {\n",
              "        vertical-align: top;\n",
              "    }\n",
              "\n",
              "    .dataframe thead th {\n",
              "        text-align: right;\n",
              "    }\n",
              "</style>\n",
              "<table border=\"1\" class=\"dataframe\">\n",
              "  <thead>\n",
              "    <tr style=\"text-align: right;\">\n",
              "      <th></th>\n",
              "      <th>nome_municipio</th>\n",
              "      <th>nome_tipo_jurisdicionado</th>\n",
              "      <th>nome_esfera_jurisdicionado</th>\n",
              "      <th>valor_estimado_licitacao</th>\n",
              "      <th>valor_licitado_licitacao</th>\n",
              "      <th>data_homologacao_licitacao</th>\n",
              "      <th>ano_homologacao_licitacao</th>\n",
              "      <th>nome_proponente</th>\n",
              "      <th>valor_proposta</th>\n",
              "      <th>situacao_proposta</th>\n",
              "      <th>nome_estagio_processual_licitacao</th>\n",
              "    </tr>\n",
              "  </thead>\n",
              "  <tbody>\n",
              "    <tr>\n",
              "      <th>1</th>\n",
              "      <td>Desterro</td>\n",
              "      <td>Prefeitura</td>\n",
              "      <td>Municipal</td>\n",
              "      <td>60000.0</td>\n",
              "      <td>54000.0</td>\n",
              "      <td>20/01/2014</td>\n",
              "      <td>2014</td>\n",
              "      <td>Veneza Maquinas Comercio Ltda</td>\n",
              "      <td>54000.0</td>\n",
              "      <td>Vencedora</td>\n",
              "      <td>Formalizado</td>\n",
              "    </tr>\n",
              "    <tr>\n",
              "      <th>2</th>\n",
              "      <td>Juru</td>\n",
              "      <td>Prefeitura</td>\n",
              "      <td>Municipal</td>\n",
              "      <td>500000.0</td>\n",
              "      <td>596300.0</td>\n",
              "      <td>24/01/2014</td>\n",
              "      <td>2014</td>\n",
              "      <td>COMERCIAL DE COMBUSTIVEIS NORDESTE</td>\n",
              "      <td>137400.0</td>\n",
              "      <td>Vencedora</td>\n",
              "      <td>Formalizado</td>\n",
              "    </tr>\n",
              "    <tr>\n",
              "      <th>3</th>\n",
              "      <td>Juru</td>\n",
              "      <td>Prefeitura</td>\n",
              "      <td>Municipal</td>\n",
              "      <td>500000.0</td>\n",
              "      <td>596300.0</td>\n",
              "      <td>24/01/2014</td>\n",
              "      <td>2014</td>\n",
              "      <td>CESAR POSTO</td>\n",
              "      <td>351900.0</td>\n",
              "      <td>Vencedora</td>\n",
              "      <td>Formalizado</td>\n",
              "    </tr>\n",
              "    <tr>\n",
              "      <th>4</th>\n",
              "      <td>Juru</td>\n",
              "      <td>Prefeitura</td>\n",
              "      <td>Municipal</td>\n",
              "      <td>500000.0</td>\n",
              "      <td>596300.0</td>\n",
              "      <td>24/01/2014</td>\n",
              "      <td>2014</td>\n",
              "      <td>RI COMERCIO DE DERIVADOS DE PETROLEO</td>\n",
              "      <td>104000.0</td>\n",
              "      <td>Vencedora</td>\n",
              "      <td>Formalizado</td>\n",
              "    </tr>\n",
              "    <tr>\n",
              "      <th>5</th>\n",
              "      <td>MarizÃ³polis</td>\n",
              "      <td>Prefeitura</td>\n",
              "      <td>Municipal</td>\n",
              "      <td>620000.0</td>\n",
              "      <td>567952.5</td>\n",
              "      <td>03/02/2014</td>\n",
              "      <td>2014</td>\n",
              "      <td>MARIA DE FÃTIMA CARTAXO ANDRADE &amp; CIA LTDA</td>\n",
              "      <td>567952.5</td>\n",
              "      <td>Vencedora</td>\n",
              "      <td>Formalizado</td>\n",
              "    </tr>\n",
              "  </tbody>\n",
              "</table>\n",
              "</div>\n",
              "      <button class=\"colab-df-convert\" onclick=\"convertToInteractive('df-56630feb-0696-4fef-b123-0aa99a43c4c9')\"\n",
              "              title=\"Convert this dataframe to an interactive table.\"\n",
              "              style=\"display:none;\">\n",
              "        \n",
              "  <svg xmlns=\"http://www.w3.org/2000/svg\" height=\"24px\"viewBox=\"0 0 24 24\"\n",
              "       width=\"24px\">\n",
              "    <path d=\"M0 0h24v24H0V0z\" fill=\"none\"/>\n",
              "    <path d=\"M18.56 5.44l.94 2.06.94-2.06 2.06-.94-2.06-.94-.94-2.06-.94 2.06-2.06.94zm-11 1L8.5 8.5l.94-2.06 2.06-.94-2.06-.94L8.5 2.5l-.94 2.06-2.06.94zm10 10l.94 2.06.94-2.06 2.06-.94-2.06-.94-.94-2.06-.94 2.06-2.06.94z\"/><path d=\"M17.41 7.96l-1.37-1.37c-.4-.4-.92-.59-1.43-.59-.52 0-1.04.2-1.43.59L10.3 9.45l-7.72 7.72c-.78.78-.78 2.05 0 2.83L4 21.41c.39.39.9.59 1.41.59.51 0 1.02-.2 1.41-.59l7.78-7.78 2.81-2.81c.8-.78.8-2.07 0-2.86zM5.41 20L4 18.59l7.72-7.72 1.47 1.35L5.41 20z\"/>\n",
              "  </svg>\n",
              "      </button>\n",
              "      \n",
              "  <style>\n",
              "    .colab-df-container {\n",
              "      display:flex;\n",
              "      flex-wrap:wrap;\n",
              "      gap: 12px;\n",
              "    }\n",
              "\n",
              "    .colab-df-convert {\n",
              "      background-color: #E8F0FE;\n",
              "      border: none;\n",
              "      border-radius: 50%;\n",
              "      cursor: pointer;\n",
              "      display: none;\n",
              "      fill: #1967D2;\n",
              "      height: 32px;\n",
              "      padding: 0 0 0 0;\n",
              "      width: 32px;\n",
              "    }\n",
              "\n",
              "    .colab-df-convert:hover {\n",
              "      background-color: #E2EBFA;\n",
              "      box-shadow: 0px 1px 2px rgba(60, 64, 67, 0.3), 0px 1px 3px 1px rgba(60, 64, 67, 0.15);\n",
              "      fill: #174EA6;\n",
              "    }\n",
              "\n",
              "    [theme=dark] .colab-df-convert {\n",
              "      background-color: #3B4455;\n",
              "      fill: #D2E3FC;\n",
              "    }\n",
              "\n",
              "    [theme=dark] .colab-df-convert:hover {\n",
              "      background-color: #434B5C;\n",
              "      box-shadow: 0px 1px 3px 1px rgba(0, 0, 0, 0.15);\n",
              "      filter: drop-shadow(0px 1px 2px rgba(0, 0, 0, 0.3));\n",
              "      fill: #FFFFFF;\n",
              "    }\n",
              "  </style>\n",
              "\n",
              "      <script>\n",
              "        const buttonEl =\n",
              "          document.querySelector('#df-56630feb-0696-4fef-b123-0aa99a43c4c9 button.colab-df-convert');\n",
              "        buttonEl.style.display =\n",
              "          google.colab.kernel.accessAllowed ? 'block' : 'none';\n",
              "\n",
              "        async function convertToInteractive(key) {\n",
              "          const element = document.querySelector('#df-56630feb-0696-4fef-b123-0aa99a43c4c9');\n",
              "          const dataTable =\n",
              "            await google.colab.kernel.invokeFunction('convertToInteractive',\n",
              "                                                     [key], {});\n",
              "          if (!dataTable) return;\n",
              "\n",
              "          const docLinkHtml = 'Like what you see? Visit the ' +\n",
              "            '<a target=\"_blank\" href=https://colab.research.google.com/notebooks/data_table.ipynb>data table notebook</a>'\n",
              "            + ' to learn more about interactive tables.';\n",
              "          element.innerHTML = '';\n",
              "          dataTable['output_type'] = 'display_data';\n",
              "          await google.colab.output.renderOutput(dataTable, element);\n",
              "          const docLink = document.createElement('div');\n",
              "          docLink.innerHTML = docLinkHtml;\n",
              "          element.appendChild(docLink);\n",
              "        }\n",
              "      </script>\n",
              "    </div>\n",
              "  </div>\n",
              "  "
            ]
          },
          "metadata": {},
          "execution_count": 28
        }
      ]
    },
    {
      "cell_type": "code",
      "source": [
        "df.to_csv(\"/content/drive/MyDrive/CDIA/DataVis/tce_licitacoes.csv\")"
      ],
      "metadata": {
        "id": "DHTIpeqbjIaF"
      },
      "execution_count": 30,
      "outputs": []
    }
  ]
}